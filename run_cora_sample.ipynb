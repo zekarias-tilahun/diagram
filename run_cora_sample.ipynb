{
 "cells": [
  {
   "cell_type": "code",
   "execution_count": 3,
   "metadata": {},
   "outputs": [],
   "source": [
    "import main\n",
    "import model"
   ]
  },
  {
   "cell_type": "markdown",
   "metadata": {},
   "source": [
    "### Reading Data"
   ]
  },
  {
   "cell_type": "code",
   "execution_count": 2,
   "metadata": {},
   "outputs": [
    {
     "name": "stdout",
     "output_type": "stream",
     "text": [
      "Loading data graph from ../data/cora/graph.txt\n",
      "Loading data graph from ../data/cora/feature.txt\n",
      "\tAdjacency matrix shape: (2708, 2708)\n",
      "\tFeature matrix shape: (2708, 1433)\n",
      "\tNumber of edges: 5429\n"
     ]
    }
   ],
   "source": [
    "n_path = '../data/cora/graph.txt'\n",
    "f_path = '../data/cora/feature.txt'\n",
    "l_path = '../data/cora/group.txt'\n",
    "graph, adj_mat, features = main.load_data(net_path=n_path, feature_path=f_path)"
   ]
  },
  {
   "cell_type": "markdown",
   "metadata": {},
   "source": [
    "### Configuring options"
   ]
  },
  {
   "cell_type": "code",
   "execution_count": 4,
   "metadata": {},
   "outputs": [],
   "source": [
    "options = main.Options(number_of_nodes=adj_mat.shape[0], number_of_features=features.shape[1], rate=0.2)"
   ]
  },
  {
   "cell_type": "markdown",
   "metadata": {},
   "source": [
    "### Training models"
   ]
  },
  {
   "cell_type": "markdown",
   "metadata": {},
   "source": [
    "#### Node Model"
   ]
  },
  {
   "cell_type": "code",
   "execution_count": 5,
   "metadata": {},
   "outputs": [
    {
     "name": "stdout",
     "output_type": "stream",
     "text": [
      "WARNING:tensorflow:From /home/zekarias/anaconda3/lib/python3.6/site-packages/tensorflow/python/keras/_impl/keras/backend.py:1557: calling reduce_mean (from tensorflow.python.ops.math_ops) with keep_dims is deprecated and will be removed in a future version.\n",
      "Instructions for updating:\n",
      "keep_dims is deprecated, use keepdims instead\n",
      "Epoch 1/10\n",
      "2708/2708 [==============================]2708/2708 [==============================] - 5s 2ms/step - loss: 0.6686 - unified_reconstruction_kernel_loss: 0.5214 - reconstruction_kernel_loss_1: 0.0745 - reconstruction_kernel_loss_2: 0.0727\n",
      "\n",
      "Epoch 2/10\n",
      "2708/2708 [==============================]2708/2708 [==============================] - 5s 2ms/step - loss: 0.4103 - unified_reconstruction_kernel_loss: 0.2710 - reconstruction_kernel_loss_1: 0.0739 - reconstruction_kernel_loss_2: 0.0654\n",
      "\n",
      "Epoch 3/10\n",
      "2708/2708 [==============================]2708/2708 [==============================] - 5s 2ms/step - loss: 0.3811 - unified_reconstruction_kernel_loss: 0.2528 - reconstruction_kernel_loss_1: 0.0680 - reconstruction_kernel_loss_2: 0.0603\n",
      "\n",
      "Epoch 4/10\n",
      "2708/2708 [==============================]2708/2708 [==============================] - 5s 2ms/step - loss: 0.3663 - unified_reconstruction_kernel_loss: 0.2462 - reconstruction_kernel_loss_1: 0.0630 - reconstruction_kernel_loss_2: 0.0571\n",
      "\n",
      "Epoch 5/10\n",
      "2708/2708 [==============================]2708/2708 [==============================] - 5s 2ms/step - loss: 0.3528 - unified_reconstruction_kernel_loss: 0.2401 - reconstruction_kernel_loss_1: 0.0585 - reconstruction_kernel_loss_2: 0.0542\n",
      "\n",
      "Epoch 6/10\n",
      "2708/2708 [==============================]2708/2708 [==============================] - 5s 2ms/step - loss: 0.3366 - unified_reconstruction_kernel_loss: 0.2328 - reconstruction_kernel_loss_1: 0.0535 - reconstruction_kernel_loss_2: 0.0503\n",
      "\n",
      "Epoch 7/10\n",
      "2708/2708 [==============================]2708/2708 [==============================] - 5s 2ms/step - loss: 0.3184 - unified_reconstruction_kernel_loss: 0.2242 - reconstruction_kernel_loss_1: 0.0481 - reconstruction_kernel_loss_2: 0.0461\n",
      "\n",
      "Epoch 8/10\n",
      "2708/2708 [==============================]2708/2708 [==============================] - 5s 2ms/step - loss: 0.3000 - unified_reconstruction_kernel_loss: 0.2144 - reconstruction_kernel_loss_1: 0.0433 - reconstruction_kernel_loss_2: 0.0422\n",
      "\n",
      "Epoch 9/10\n",
      "2708/2708 [==============================]2708/2708 [==============================] - 5s 2ms/step - loss: 0.2827 - unified_reconstruction_kernel_loss: 0.2051 - reconstruction_kernel_loss_1: 0.0389 - reconstruction_kernel_loss_2: 0.0388\n",
      "\n",
      "Epoch 10/10\n",
      "2708/2708 [==============================]2708/2708 [==============================] - 5s 2ms/step - loss: 0.2689 - unified_reconstruction_kernel_loss: 0.1969 - reconstruction_kernel_loss_1: 0.0359 - reconstruction_kernel_loss_2: 0.0361\n",
      "\n"
     ]
    }
   ],
   "source": [
    "node_model = model.NodeModel(options=options, adj=adj_mat, features=features)\n",
    "node_model.train(epochs=10)\n",
    "embeddings_nm = node_model.predict()\n",
    "unf_embedding_nm = embeddings_nm[model.UNF_KEY]"
   ]
  },
  {
   "cell_type": "markdown",
   "metadata": {},
   "source": [
    "#### Edge Model"
   ]
  },
  {
   "cell_type": "code",
   "execution_count": 6,
   "metadata": {},
   "outputs": [
    {
     "name": "stdout",
     "output_type": "stream",
     "text": [
      "Transferring learned weights to the 0-th layer of encoder\n",
      "Weight shape: (2708, 512), bias shape: (512,)\n",
      "Transferring learned weights to the 1-th layer of encoder\n",
      "Weight shape: (512, 256), bias shape: (256,)\n",
      "Transferring learned weights to the embedding layer\n",
      "Transferring learned weights to the 0-th layer of decoder\n",
      "Weight shape: (128, 256), bias shape: (256,)\n",
      "Transferring learned weights to the 1-th layer of decoder\n",
      "Weight shape: (256, 512), bias shape: (512,)\n",
      "Transferring learned weights to reconstruction layer\n",
      "Epoch 1/1\n",
      "5429/5429 [==============================]5429/5429 [==============================] - 14s 3ms/step - loss: 0.8659 - reconstruction_kernel_loss_1: 0.0394 - reconstruction_kernel_loss_2: 0.0884 - unified_reconstruction_kernel_loss_1: 0.3446 - reconstruction_kernel_loss_3: 0.0772 - reconstruction_kernel_loss_4: 0.0485 - unified_reconstruction_kernel_loss_2: 0.2678\n",
      "\n"
     ]
    }
   ],
   "source": [
    "edge_model = model.EdgeModel(options=options, adj=adj_mat, features=features, transferred_weights=node_model.get_learned_weights())\n",
    "edge_model.train(epochs=1)\n",
    "embeddings_em = edge_model.predict()\n",
    "unf_embedding_em = embeddings_em[model.UNF_KEY]"
   ]
  },
  {
   "cell_type": "markdown",
   "metadata": {},
   "source": [
    "## Node Classification experiment"
   ]
  },
  {
   "cell_type": "code",
   "execution_count": 7,
   "metadata": {},
   "outputs": [],
   "source": [
    "from sklearn.linear_model import LogisticRegression\n",
    "from sklearn import model_selection, preprocessing\n",
    "from sklearn.multiclass import OneVsRestClassifier\n",
    "from sklearn.pipeline import make_pipeline\n",
    "from sklearn.metrics import f1_score\n",
    "\n",
    "import pandas as pd\n",
    "import numpy as np"
   ]
  },
  {
   "cell_type": "code",
   "execution_count": 8,
   "metadata": {},
   "outputs": [],
   "source": [
    "def node_classification(features, lbl_path, tr=.1, seed=0, cv=10):\n",
    "    ss = model_selection.ShuffleSplit(n_splits=cv, train_size=tr, test_size=1. - tr, random_state=seed)\n",
    "    label_df = pd.read_csv(lbl_path, header=None, sep='\\t', names=['node', 'label'])\n",
    "    labels = label_df.sort_values('node')['label'].values\n",
    "    micros = []\n",
    "    macros = []\n",
    "    print('Training ratio: {}'.format(tr))\n",
    "    clf = OneVsRestClassifier(LogisticRegression())\n",
    "    for train_index, test_index in ss.split(features):\n",
    "        x_train, x_test = features[train_index], features[test_index]\n",
    "        y_train, y_test = labels[train_index], labels[test_index]\n",
    "        pipe = make_pipeline(preprocessing.StandardScaler(), clf)\n",
    "        y_hat = pipe.fit(x_train, y_train).predict(x_test)\n",
    "        mic = f1_score(y_test, y_hat, average='micro')\n",
    "        mac = f1_score(y_test, y_hat, average='macro')\n",
    "        micros.append(mic)\n",
    "        macros.append(mac)\n",
    "\n",
    "    mic_mean, mic_std = np.mean(micros), np.std(micros)\n",
    "    mac_mean, mac_std = np.mean(macros), np.std(macros)\n",
    "    return mic_mean, mic_std, mac_mean, mac_std"
   ]
  },
  {
   "cell_type": "markdown",
   "metadata": {},
   "source": [
    "#### Evaluation of the node model after 10 epoch"
   ]
  },
  {
   "cell_type": "code",
   "execution_count": 10,
   "metadata": {},
   "outputs": [
    {
     "name": "stdout",
     "output_type": "stream",
     "text": [
      "Training ratio: 0.1\n"
     ]
    },
    {
     "data": {
      "text/plain": [
       "(0.5437243642329779,\n",
       " 0.010746513535684997,\n",
       " 0.516317399277235,\n",
       " 0.01253198475756222)"
      ]
     },
     "execution_count": 10,
     "metadata": {},
     "output_type": "execute_result"
    }
   ],
   "source": [
    "mic_f1, mic_std, mac_f1, mac_std  = node_classification(unf_embedding_nm, lbl_path=l_path)\n",
    "mic_f1, mic_std, mac_f1, mac_std"
   ]
  },
  {
   "cell_type": "markdown",
   "metadata": {},
   "source": [
    "#### Evaluation of the edge model after 1 epoch"
   ]
  },
  {
   "cell_type": "code",
   "execution_count": 11,
   "metadata": {},
   "outputs": [
    {
     "name": "stdout",
     "output_type": "stream",
     "text": [
      "Training ratio: 0.1\n"
     ]
    },
    {
     "data": {
      "text/plain": [
       "(0.52850697292863,\n",
       " 0.0127183171513723,\n",
       " 0.5004278587454828,\n",
       " 0.021276662022361743)"
      ]
     },
     "execution_count": 11,
     "metadata": {},
     "output_type": "execute_result"
    }
   ],
   "source": [
    "mic_f1, mic_std, mac_f1, mac_std  = node_classification(unf_embedding_em, lbl_path=l_path)\n",
    "mic_f1, mic_std, mac_f1, mac_std"
   ]
  }
 ],
 "metadata": {
  "kernelspec": {
   "display_name": "Python 3",
   "language": "python",
   "name": "python3"
  },
  "language_info": {
   "codemirror_mode": {
    "name": "ipython",
    "version": 3
   },
   "file_extension": ".py",
   "mimetype": "text/x-python",
   "name": "python",
   "nbconvert_exporter": "python",
   "pygments_lexer": "ipython3",
   "version": "3.6.5"
  }
 },
 "nbformat": 4,
 "nbformat_minor": 2
}
