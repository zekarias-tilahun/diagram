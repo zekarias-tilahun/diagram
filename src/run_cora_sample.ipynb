{
 "cells": [
  {
   "cell_type": "code",
   "execution_count": 1,
   "metadata": {},
   "outputs": [],
   "source": [
    "import main\n",
    "import model"
   ]
  },
  {
   "cell_type": "markdown",
   "metadata": {},
   "source": [
    "### Reading Data"
   ]
  },
  {
   "cell_type": "code",
   "execution_count": 2,
   "metadata": {},
   "outputs": [
    {
     "name": "stdout",
     "output_type": "stream",
     "text": [
      "Loading data graph from ../data/cora/graph.txt\n",
      "Loading data graph from ../data/cora/feature.txt\n",
      "\tAdjacency matrix shape: (2708, 2708)\n",
      "\tFeature matrix shape: (2708, 1433)\n",
      "\tNumber of edges: 5429\n"
     ]
    }
   ],
   "source": [
    "n_path = '../data/cora/graph.txt'\n",
    "f_path = '../data/cora/feature.txt'\n",
    "l_path = '../data/cora/group.txt'\n",
    "graph, adj_mat, features = main.load_data(net_path=n_path, feature_path=f_path)"
   ]
  },
  {
   "cell_type": "markdown",
   "metadata": {},
   "source": [
    "### Configuring options"
   ]
  },
  {
   "cell_type": "code",
   "execution_count": 3,
   "metadata": {},
   "outputs": [],
   "source": [
    "options = main.Options(number_of_nodes=adj_mat.shape[0], number_of_features=features.shape[1], rate=0.2)"
   ]
  },
  {
   "cell_type": "markdown",
   "metadata": {},
   "source": [
    "### Training models"
   ]
  },
  {
   "cell_type": "markdown",
   "metadata": {},
   "source": [
    "#### Node Model"
   ]
  },
  {
   "cell_type": "code",
   "execution_count": 4,
   "metadata": {},
   "outputs": [
    {
     "name": "stdout",
     "output_type": "stream",
     "text": [
      "Epoch 1/20\n",
      "2708/2708 [==============================] - 2s 783us/step - loss: 0.6638 - unified_reconstruction_kernel_loss: 0.5170 - reconstruction_kernel_loss: 0.0723\n",
      "Epoch 2/20\n",
      "2708/2708 [==============================] - 1s 547us/step - loss: 0.4086 - unified_reconstruction_kernel_loss: 0.2694 - reconstruction_kernel_loss: 0.0649\n",
      "Epoch 3/20\n",
      "2708/2708 [==============================] - 1s 540us/step - loss: 0.3808 - unified_reconstruction_kernel_loss: 0.2527 - reconstruction_kernel_loss: 0.0601\n",
      "Epoch 4/20\n",
      "2708/2708 [==============================] - 1s 501us/step - loss: 0.3668 - unified_reconstruction_kernel_loss: 0.2464 - reconstruction_kernel_loss: 0.0572\n",
      "Epoch 5/20\n",
      "2708/2708 [==============================] - 1s 529us/step - loss: 0.3539 - unified_reconstruction_kernel_loss: 0.2405 - reconstruction_kernel_loss: 0.0541\n",
      "Epoch 6/20\n",
      "2708/2708 [==============================] - 1s 523us/step - loss: 0.3389 - unified_reconstruction_kernel_loss: 0.2341 - reconstruction_kernel_loss: 0.0507\n",
      "Epoch 7/20\n",
      "2708/2708 [==============================] - 1s 514us/step - loss: 0.3210 - unified_reconstruction_kernel_loss: 0.2257 - reconstruction_kernel_loss: 0.0462\n",
      "Epoch 8/20\n",
      "2708/2708 [==============================] - 1s 512us/step - loss: 0.3019 - unified_reconstruction_kernel_loss: 0.2158 - reconstruction_kernel_loss: 0.0421\n",
      "Epoch 9/20\n",
      "2708/2708 [==============================] - 1s 498us/step - loss: 0.2841 - unified_reconstruction_kernel_loss: 0.2058 - reconstruction_kernel_loss: 0.0386\n",
      "Epoch 10/20\n",
      "2708/2708 [==============================] - 1s 498us/step - loss: 0.2697 - unified_reconstruction_kernel_loss: 0.1973 - reconstruction_kernel_loss: 0.0360\n",
      "Epoch 11/20\n",
      "2708/2708 [==============================] - 1s 526us/step - loss: 0.2575 - unified_reconstruction_kernel_loss: 0.1897 - reconstruction_kernel_loss: 0.0340\n",
      "Epoch 12/20\n",
      "2708/2708 [==============================] - 1s 532us/step - loss: 0.2480 - unified_reconstruction_kernel_loss: 0.1837 - reconstruction_kernel_loss: 0.0323\n",
      "Epoch 13/20\n",
      "2708/2708 [==============================] - 1s 514us/step - loss: 0.2400 - unified_reconstruction_kernel_loss: 0.1783 - reconstruction_kernel_loss: 0.0311\n",
      "Epoch 14/20\n",
      "2708/2708 [==============================] - 1s 504us/step - loss: 0.2333 - unified_reconstruction_kernel_loss: 0.1739 - reconstruction_kernel_loss: 0.0301\n",
      "Epoch 15/20\n",
      "2708/2708 [==============================] - 1s 494us/step - loss: 0.2274 - unified_reconstruction_kernel_loss: 0.1699 - reconstruction_kernel_loss: 0.0291\n",
      "Epoch 16/20\n",
      "2708/2708 [==============================] - 1s 517us/step - loss: 0.2223 - unified_reconstruction_kernel_loss: 0.1664 - reconstruction_kernel_loss: 0.0284\n",
      "Epoch 17/20\n",
      "2708/2708 [==============================] - 1s 532us/step - loss: 0.2174 - unified_reconstruction_kernel_loss: 0.1630 - reconstruction_kernel_loss: 0.0277\n",
      "Epoch 18/20\n",
      "2708/2708 [==============================] - 1s 538us/step - loss: 0.2132 - unified_reconstruction_kernel_loss: 0.1600 - reconstruction_kernel_loss: 0.0270\n",
      "Epoch 19/20\n",
      "2708/2708 [==============================] - 1s 533us/step - loss: 0.2088 - unified_reconstruction_kernel_loss: 0.1568 - reconstruction_kernel_loss: 0.0265\n",
      "Epoch 20/20\n",
      "2708/2708 [==============================] - 1s 533us/step - loss: 0.2053 - unified_reconstruction_kernel_loss: 0.1543 - reconstruction_kernel_loss: 0.0258\n"
     ]
    }
   ],
   "source": [
    "node_model = model.NodeModel(options=options, adj=adj_mat, features=features)\n",
    "node_model.train(epochs=20)\n",
    "embeddings_nm = node_model.predict()\n",
    "unf_embedding_nm = embeddings_nm[model.UNF_KEY]"
   ]
  },
  {
   "cell_type": "markdown",
   "metadata": {},
   "source": [
    "#### Edge Model"
   ]
  },
  {
   "cell_type": "code",
   "execution_count": 5,
   "metadata": {},
   "outputs": [
    {
     "name": "stdout",
     "output_type": "stream",
     "text": [
      "Transferring learned weights to the 0-th layer of encoder\n",
      "Weight shape: (2708, 512), bias shape: (512,)\n",
      "Transferring learned weights to the 1-th layer of encoder\n",
      "Weight shape: (512, 256), bias shape: (256,)\n",
      "Transferring learned weights to the embedding layer\n",
      "Transferring learned weights to the 0-th layer of decoder\n",
      "Weight shape: (128, 256), bias shape: (256,)\n",
      "Transferring learned weights to the 1-th layer of decoder\n",
      "Weight shape: (256, 512), bias shape: (512,)\n",
      "Transferring learned weights to reconstruction layer\n",
      "Epoch 1/1\n",
      "5429/5429 [==============================] - 5s 877us/step - loss: 0.8004 - reconstruction_kernel_loss: 0.0449 - unified_reconstruction_kernel_loss: 0.2434\n"
     ]
    }
   ],
   "source": [
    "edge_model = model.EdgeModel(options=options, adj=adj_mat, features=features, transferred_weights=node_model.get_learned_weights())\n",
    "edge_model.train(epochs=1)\n",
    "embeddings_em = edge_model.predict()\n",
    "unf_embedding_em = embeddings_em[model.UNF_KEY]"
   ]
  },
  {
   "cell_type": "markdown",
   "metadata": {},
   "source": [
    "## Node Classification experiment"
   ]
  },
  {
   "cell_type": "code",
   "execution_count": 6,
   "metadata": {},
   "outputs": [],
   "source": [
    "from sklearn.linear_model import LogisticRegression\n",
    "from sklearn import model_selection, preprocessing\n",
    "from sklearn.multiclass import OneVsRestClassifier\n",
    "from sklearn.pipeline import make_pipeline\n",
    "from sklearn.metrics import f1_score\n",
    "\n",
    "import pandas as pd\n",
    "import numpy as np"
   ]
  },
  {
   "cell_type": "code",
   "execution_count": 7,
   "metadata": {},
   "outputs": [],
   "source": [
    "def node_classification(features, lbl_path, tr=.1, seed=0, cv=10):\n",
    "    ss = model_selection.ShuffleSplit(n_splits=cv, train_size=tr, test_size=1. - tr, random_state=seed)\n",
    "    label_df = pd.read_csv(lbl_path, header=None, sep='\\t', names=['node', 'label'])\n",
    "    labels = label_df.sort_values('node')['label'].values\n",
    "    micros = []\n",
    "    macros = []\n",
    "    print('Training ratio: {}'.format(tr))\n",
    "    clf = OneVsRestClassifier(LogisticRegression())\n",
    "    for train_index, test_index in ss.split(features):\n",
    "        x_train, x_test = features[train_index], features[test_index]\n",
    "        y_train, y_test = labels[train_index], labels[test_index]\n",
    "        pipe = make_pipeline(preprocessing.StandardScaler(), clf)\n",
    "        y_hat = pipe.fit(x_train, y_train).predict(x_test)\n",
    "        mic = f1_score(y_test, y_hat, average='micro')\n",
    "        mac = f1_score(y_test, y_hat, average='macro')\n",
    "        micros.append(mic)\n",
    "        macros.append(mac)\n",
    "\n",
    "    mic_mean, mic_std = np.mean(micros), np.std(micros)\n",
    "    mac_mean, mac_std = np.mean(macros), np.std(macros)\n",
    "    return mic_mean, mic_std, mac_mean, mac_std"
   ]
  },
  {
   "cell_type": "markdown",
   "metadata": {},
   "source": [
    "# Evaluation of the node model after 20 epochs"
   ]
  },
  {
   "cell_type": "code",
   "execution_count": 8,
   "metadata": {},
   "outputs": [
    {
     "name": "stdout",
     "output_type": "stream",
     "text": [
      "Training ratio: 0.1\n"
     ]
    },
    {
     "name": "stderr",
     "output_type": "stream",
     "text": [
      "/home/zekarias/anaconda3/envs/dmte/lib/python2.7/site-packages/sklearn/linear_model/logistic.py:433: FutureWarning: Default solver will be changed to 'lbfgs' in 0.22. Specify a solver to silence this warning.\n",
      "  FutureWarning)\n"
     ]
    },
    {
     "data": {
      "text/plain": [
       "(0.6316652994257588,\n",
       " 0.014570067382066287,\n",
       " 0.6114287674766035,\n",
       " 0.02012445136222972)"
      ]
     },
     "execution_count": 8,
     "metadata": {},
     "output_type": "execute_result"
    }
   ],
   "source": [
    "mic_f1, mic_std, mac_f1, mac_std  = node_classification(unf_embedding_nm, lbl_path=l_path)\n",
    "mic_f1, mic_std, mac_f1, mac_std"
   ]
  },
  {
   "cell_type": "markdown",
   "metadata": {},
   "source": [
    "# Evaluation of the edge model after 1 epoch\n",
    "## As a result of the transfered weights from the node model, with just 1 epoch the edge model achieves equivalent performance to the node model."
   ]
  },
  {
   "cell_type": "code",
   "execution_count": 9,
   "metadata": {},
   "outputs": [
    {
     "name": "stdout",
     "output_type": "stream",
     "text": [
      "Training ratio: 0.1\n"
     ]
    },
    {
     "data": {
      "text/plain": [
       "(0.6232977850697293,\n",
       " 0.012844615275504394,\n",
       " 0.6021052584593062,\n",
       " 0.013465656531239961)"
      ]
     },
     "execution_count": 9,
     "metadata": {},
     "output_type": "execute_result"
    }
   ],
   "source": [
    "mic_f1, mic_std, mac_f1, mac_std  = node_classification(unf_embedding_em, lbl_path=l_path)\n",
    "mic_f1, mic_std, mac_f1, mac_std"
   ]
  },
  {
   "cell_type": "code",
   "execution_count": null,
   "metadata": {},
   "outputs": [],
   "source": []
  }
 ],
 "metadata": {
  "kernelspec": {
   "display_name": "Python 2",
   "language": "python",
   "name": "python2"
  },
  "language_info": {
   "codemirror_mode": {
    "name": "ipython",
    "version": 2
   },
   "file_extension": ".py",
   "mimetype": "text/x-python",
   "name": "python",
   "nbconvert_exporter": "python",
   "pygments_lexer": "ipython2",
   "version": "2.7.17"
  }
 },
 "nbformat": 4,
 "nbformat_minor": 4
}
