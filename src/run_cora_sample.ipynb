{
 "cells": [
  {
   "cell_type": "code",
   "execution_count": 1,
   "metadata": {},
   "outputs": [],
   "source": [
    "import main\n",
    "import model"
   ]
  },
  {
   "cell_type": "markdown",
   "metadata": {},
   "source": [
    "### Reading Data"
   ]
  },
  {
   "cell_type": "code",
   "execution_count": 2,
   "metadata": {},
   "outputs": [
    {
     "name": "stdout",
     "output_type": "stream",
     "text": [
      "Loading data graph from ../data/cora/graph.txt\n",
      "Loading data graph from ../data/cora/feature.txt\n",
      "\tAdjacency matrix shape: (2708, 2708)\n",
      "\tFeature matrix shape: (2708, 1433)\n",
      "\tNumber of edges: 5429\n"
     ]
    }
   ],
   "source": [
    "n_path = '../data/cora/graph.txt'\n",
    "f_path = '../data/cora/feature.txt'\n",
    "l_path = '../data/cora/group.txt'\n",
    "graph, adj_mat, features = main.load_data(net_path=n_path, feature_path=f_path)"
   ]
  },
  {
   "cell_type": "markdown",
   "metadata": {},
   "source": [
    "### Configuring options"
   ]
  },
  {
   "cell_type": "code",
   "execution_count": 3,
   "metadata": {},
   "outputs": [],
   "source": [
    "options = main.Options(number_of_nodes=adj_mat.shape[0], number_of_features=features.shape[1], rate=0.2)"
   ]
  },
  {
   "cell_type": "markdown",
   "metadata": {},
   "source": [
    "### Training models"
   ]
  },
  {
   "cell_type": "markdown",
   "metadata": {},
   "source": [
    "#### Node Model"
   ]
  },
  {
   "cell_type": "code",
   "execution_count": 4,
   "metadata": {},
   "outputs": [
    {
     "name": "stdout",
     "output_type": "stream",
     "text": [
      "Epoch 1/20\n",
      "2708/2708 [==============================] - 2s 795us/step - loss: 0.6816 - unified_reconstruction_kernel_loss: 0.5344 - reconstruction_kernel_loss: 0.0730\n",
      "Epoch 2/20\n",
      "2708/2708 [==============================] - 1s 505us/step - loss: 0.4167 - unified_reconstruction_kernel_loss: 0.2769 - reconstruction_kernel_loss: 0.0657\n",
      "Epoch 3/20\n",
      "2708/2708 [==============================] - 1s 499us/step - loss: 0.3802 - unified_reconstruction_kernel_loss: 0.2527 - reconstruction_kernel_loss: 0.0600\n",
      "Epoch 4/20\n",
      "2708/2708 [==============================] - 1s 513us/step - loss: 0.3652 - unified_reconstruction_kernel_loss: 0.2451 - reconstruction_kernel_loss: 0.0570\n",
      "Epoch 5/20\n",
      "2708/2708 [==============================] - 2s 581us/step - loss: 0.3509 - unified_reconstruction_kernel_loss: 0.2390 - reconstruction_kernel_loss: 0.0536\n",
      "Epoch 6/20\n",
      "2708/2708 [==============================] - 1s 522us/step - loss: 0.3340 - unified_reconstruction_kernel_loss: 0.2313 - reconstruction_kernel_loss: 0.0496\n",
      "Epoch 7/20\n",
      "2708/2708 [==============================] - 1s 553us/step - loss: 0.3151 - unified_reconstruction_kernel_loss: 0.2219 - reconstruction_kernel_loss: 0.0456\n",
      "Epoch 8/20\n",
      "2708/2708 [==============================] - 1s 505us/step - loss: 0.2974 - unified_reconstruction_kernel_loss: 0.2133 - reconstruction_kernel_loss: 0.0416\n",
      "Epoch 9/20\n",
      "2708/2708 [==============================] - 1s 502us/step - loss: 0.2808 - unified_reconstruction_kernel_loss: 0.2039 - reconstruction_kernel_loss: 0.0382\n",
      "Epoch 10/20\n",
      "2708/2708 [==============================] - 1s 513us/step - loss: 0.2676 - unified_reconstruction_kernel_loss: 0.1963 - reconstruction_kernel_loss: 0.0357\n",
      "Epoch 11/20\n",
      "2708/2708 [==============================] - 1s 516us/step - loss: 0.2565 - unified_reconstruction_kernel_loss: 0.1892 - reconstruction_kernel_loss: 0.0339\n",
      "Epoch 12/20\n",
      "2708/2708 [==============================] - 1s 505us/step - loss: 0.2466 - unified_reconstruction_kernel_loss: 0.1828 - reconstruction_kernel_loss: 0.0322\n",
      "Epoch 13/20\n",
      "2708/2708 [==============================] - 1s 511us/step - loss: 0.2389 - unified_reconstruction_kernel_loss: 0.1779 - reconstruction_kernel_loss: 0.0309\n",
      "Epoch 14/20\n",
      "2708/2708 [==============================] - 1s 523us/step - loss: 0.2323 - unified_reconstruction_kernel_loss: 0.1735 - reconstruction_kernel_loss: 0.0299\n",
      "Epoch 15/20\n",
      "2708/2708 [==============================] - 1s 521us/step - loss: 0.2264 - unified_reconstruction_kernel_loss: 0.1692 - reconstruction_kernel_loss: 0.0290\n",
      "Epoch 16/20\n",
      "2708/2708 [==============================] - 1s 521us/step - loss: 0.2215 - unified_reconstruction_kernel_loss: 0.1660 - reconstruction_kernel_loss: 0.0282\n",
      "Epoch 17/20\n",
      "2708/2708 [==============================] - 1s 506us/step - loss: 0.2166 - unified_reconstruction_kernel_loss: 0.1625 - reconstruction_kernel_loss: 0.0275\n",
      "Epoch 18/20\n",
      "2708/2708 [==============================] - 1s 504us/step - loss: 0.2120 - unified_reconstruction_kernel_loss: 0.1593 - reconstruction_kernel_loss: 0.0268\n",
      "Epoch 19/20\n",
      "2708/2708 [==============================] - 1s 504us/step - loss: 0.2084 - unified_reconstruction_kernel_loss: 0.1567 - reconstruction_kernel_loss: 0.0264\n",
      "Epoch 20/20\n",
      "2708/2708 [==============================] - 1s 500us/step - loss: 0.2047 - unified_reconstruction_kernel_loss: 0.1539 - reconstruction_kernel_loss: 0.0259\n"
     ]
    }
   ],
   "source": [
    "node_model = model.NodeModel(options=options, adj=adj_mat, features=features)\n",
    "node_model.train(epochs=20)\n",
    "embeddings_nm = node_model.predict()\n",
    "unf_embedding_nm = embeddings_nm[model.UNF_KEY]"
   ]
  },
  {
   "cell_type": "markdown",
   "metadata": {},
   "source": [
    "#### Edge Model"
   ]
  },
  {
   "cell_type": "code",
   "execution_count": 5,
   "metadata": {},
   "outputs": [
    {
     "name": "stdout",
     "output_type": "stream",
     "text": [
      "Transferring learned weights to the 0-th layer of encoder\n",
      "Weight shape: (2708, 512), bias shape: (512,)\n",
      "Transferring learned weights to the 1-th layer of encoder\n",
      "Weight shape: (512, 256), bias shape: (256,)\n",
      "Transferring learned weights to the embedding layer\n",
      "Transferring learned weights to the 0-th layer of decoder\n",
      "Weight shape: (128, 256), bias shape: (256,)\n",
      "Transferring learned weights to the 1-th layer of decoder\n",
      "Weight shape: (256, 512), bias shape: (512,)\n",
      "Transferring learned weights to reconstruction layer\n",
      "Epoch 1/1\n",
      "5429/5429 [==============================] - 4s 802us/step - loss: 0.8256 - reconstruction_kernel_loss: 0.0457 - unified_reconstruction_kernel_loss: 0.2498\n"
     ]
    }
   ],
   "source": [
    "edge_model = model.EdgeModel(options=options, adj=adj_mat, features=features, transferred_weights=node_model.get_learned_weights())\n",
    "edge_model.train(epochs=1)\n",
    "embeddings_em = edge_model.predict()\n",
    "unf_embedding_em = embeddings_em[model.UNF_KEY]"
   ]
  },
  {
   "cell_type": "markdown",
   "metadata": {},
   "source": [
    "## Node Classification experiment"
   ]
  },
  {
   "cell_type": "code",
   "execution_count": 6,
   "metadata": {},
   "outputs": [],
   "source": [
    "from sklearn.linear_model import LogisticRegression\n",
    "from sklearn import model_selection, preprocessing\n",
    "from sklearn.multiclass import OneVsRestClassifier\n",
    "from sklearn.pipeline import make_pipeline\n",
    "from sklearn.metrics import f1_score\n",
    "\n",
    "import pandas as pd\n",
    "import numpy as np"
   ]
  },
  {
   "cell_type": "code",
   "execution_count": 7,
   "metadata": {},
   "outputs": [],
   "source": [
    "def node_classification(features, lbl_path, tr=.1, seed=0, cv=10):\n",
    "    ss = model_selection.ShuffleSplit(n_splits=cv, train_size=tr, test_size=1. - tr, random_state=seed)\n",
    "    label_df = pd.read_csv(lbl_path, header=None, sep='\\t', names=['node', 'label'])\n",
    "    labels = label_df.sort_values('node')['label'].values\n",
    "    micros = []\n",
    "    macros = []\n",
    "    print('Training ratio: {}'.format(tr))\n",
    "    clf = OneVsRestClassifier(LogisticRegression())\n",
    "    for train_index, test_index in ss.split(features):\n",
    "        x_train, x_test = features[train_index], features[test_index]\n",
    "        y_train, y_test = labels[train_index], labels[test_index]\n",
    "        pipe = make_pipeline(preprocessing.StandardScaler(), clf)\n",
    "        y_hat = pipe.fit(x_train, y_train).predict(x_test)\n",
    "        mic = f1_score(y_test, y_hat, average='micro')\n",
    "        mac = f1_score(y_test, y_hat, average='macro')\n",
    "        micros.append(mic)\n",
    "        macros.append(mac)\n",
    "\n",
    "    mic_mean, mic_std = np.mean(micros), np.std(micros)\n",
    "    mac_mean, mac_std = np.mean(macros), np.std(macros)\n",
    "    return mic_mean, mic_std, mac_mean, mac_std"
   ]
  },
  {
   "cell_type": "markdown",
   "metadata": {},
   "source": [
    "#### Evaluation of the node model after 20 epochs"
   ]
  },
  {
   "cell_type": "code",
   "execution_count": 8,
   "metadata": {},
   "outputs": [
    {
     "name": "stdout",
     "output_type": "stream",
     "text": [
      "Training ratio: 0.1\n"
     ]
    },
    {
     "name": "stderr",
     "output_type": "stream",
     "text": [
      "/home/zekarias/anaconda3/envs/dmte/lib/python2.7/site-packages/sklearn/linear_model/logistic.py:433: FutureWarning: Default solver will be changed to 'lbfgs' in 0.22. Specify a solver to silence this warning.\n",
      "  FutureWarning)\n"
     ]
    },
    {
     "data": {
      "text/plain": [
       "(0.6358080393765382,\n",
       " 0.011315775081528222,\n",
       " 0.6103103123369444,\n",
       " 0.017725576568914443)"
      ]
     },
     "execution_count": 8,
     "metadata": {},
     "output_type": "execute_result"
    }
   ],
   "source": [
    "mic_f1, mic_std, mac_f1, mac_std  = node_classification(unf_embedding_nm, lbl_path=l_path)\n",
    "mic_f1, mic_std, mac_f1, mac_std"
   ]
  },
  {
   "cell_type": "markdown",
   "metadata": {},
   "source": [
    "#### Evaluation of the edge model after 1 epoch"
   ]
  },
  {
   "cell_type": "code",
   "execution_count": 9,
   "metadata": {},
   "outputs": [
    {
     "name": "stdout",
     "output_type": "stream",
     "text": [
      "Training ratio: 0.1\n"
     ]
    },
    {
     "data": {
      "text/plain": [
       "(0.6226004922067269,\n",
       " 0.01121571809423823,\n",
       " 0.5968780328382988,\n",
       " 0.01393250999458774)"
      ]
     },
     "execution_count": 9,
     "metadata": {},
     "output_type": "execute_result"
    }
   ],
   "source": [
    "mic_f1, mic_std, mac_f1, mac_std  = node_classification(unf_embedding_em, lbl_path=l_path)\n",
    "mic_f1, mic_std, mac_f1, mac_std"
   ]
  },
  {
   "cell_type": "code",
   "execution_count": null,
   "metadata": {},
   "outputs": [],
   "source": []
  }
 ],
 "metadata": {
  "kernelspec": {
   "display_name": "Python 2",
   "language": "python",
   "name": "python2"
  },
  "language_info": {
   "codemirror_mode": {
    "name": "ipython",
    "version": 2
   },
   "file_extension": ".py",
   "mimetype": "text/x-python",
   "name": "python",
   "nbconvert_exporter": "python",
   "pygments_lexer": "ipython2",
   "version": "2.7.17"
  }
 },
 "nbformat": 4,
 "nbformat_minor": 4
}
